{
 "cells": [
  {
   "cell_type": "markdown",
   "id": "c64ce760",
   "metadata": {},
   "source": [
    "# 环境准备"
   ]
  },
  {
   "cell_type": "code",
   "execution_count": 1,
   "id": "c992f2f7",
   "metadata": {
    "ExecuteTime": {
     "end_time": "2022-10-17T08:05:08.116894Z",
     "start_time": "2022-10-17T08:05:06.302437Z"
    }
   },
   "outputs": [
    {
     "name": "stdout",
     "output_type": "stream",
     "text": [
      "Wall time: 1.8 s\n"
     ]
    }
   ],
   "source": [
    "%%time\n",
    "import warnings\n",
    "import pandas as pd\n",
    "\n",
    "warnings.filterwarnings(\"ignore\")\n",
    "pd.set_option(\"display.width\", 1000)\n",
    "pd.set_option(\"display.max_rows\", None)\n",
    "pd.set_option(\"display.max_columns\", None)"
   ]
  },
  {
   "cell_type": "markdown",
   "id": "0686012a",
   "metadata": {},
   "source": [
    "# 数据准备"
   ]
  },
  {
   "cell_type": "code",
   "execution_count": 7,
   "id": "cd18f705",
   "metadata": {
    "ExecuteTime": {
     "end_time": "2022-10-17T09:25:41.819093Z",
     "start_time": "2022-10-17T09:25:41.701416Z"
    }
   },
   "outputs": [
    {
     "name": "stdout",
     "output_type": "stream",
     "text": [
      "Wall time: 109 ms\n"
     ]
    }
   ],
   "source": [
    "%%time\n",
    "train = pd.read_csv(\"../xfdata/train.csv\", header =None,delimiter='\\t', names=['sentence1', 'sentence2', 'label'])\n",
    "test = pd.read_csv(\"../xfdata/test.csv\", header =None,delimiter='\\t', names=['sentence1', 'sentence2', 'label'])\n",
    "submit = pd.read_csv(\"../xfdata/sample_submit.csv\")"
   ]
  },
  {
   "cell_type": "code",
   "execution_count": 8,
   "id": "101dd0af",
   "metadata": {
    "ExecuteTime": {
     "end_time": "2022-10-17T09:25:42.426221Z",
     "start_time": "2022-10-17T09:25:42.419245Z"
    }
   },
   "outputs": [
    {
     "data": {
      "text/html": [
       "<div>\n",
       "<style scoped>\n",
       "    .dataframe tbody tr th:only-of-type {\n",
       "        vertical-align: middle;\n",
       "    }\n",
       "\n",
       "    .dataframe tbody tr th {\n",
       "        vertical-align: top;\n",
       "    }\n",
       "\n",
       "    .dataframe thead th {\n",
       "        text-align: right;\n",
       "    }\n",
       "</style>\n",
       "<table border=\"1\" class=\"dataframe\">\n",
       "  <thead>\n",
       "    <tr style=\"text-align: right;\">\n",
       "      <th></th>\n",
       "      <th>sentence1</th>\n",
       "      <th>sentence2</th>\n",
       "      <th>label</th>\n",
       "    </tr>\n",
       "  </thead>\n",
       "  <tbody>\n",
       "    <tr>\n",
       "      <th>0</th>\n",
       "      <td>藏獒为什么这么贵</td>\n",
       "      <td>藏獒见人不咬为什么</td>\n",
       "      <td>0</td>\n",
       "    </tr>\n",
       "    <tr>\n",
       "      <th>1</th>\n",
       "      <td>人生应该怎么才算精彩？</td>\n",
       "      <td>人生要怎么过才算精彩啊</td>\n",
       "      <td>1</td>\n",
       "    </tr>\n",
       "    <tr>\n",
       "      <th>2</th>\n",
       "      <td>为什么打牌老是输</td>\n",
       "      <td>为什么我枪神纪进不去了</td>\n",
       "      <td>0</td>\n",
       "    </tr>\n",
       "    <tr>\n",
       "      <th>3</th>\n",
       "      <td>现在网上卖什么最赚钱</td>\n",
       "      <td>网上卖什么最赚钱</td>\n",
       "      <td>1</td>\n",
       "    </tr>\n",
       "    <tr>\n",
       "      <th>4</th>\n",
       "      <td>如何提高气质</td>\n",
       "      <td>怎样提高自身气质？</td>\n",
       "      <td>1</td>\n",
       "    </tr>\n",
       "  </tbody>\n",
       "</table>\n",
       "</div>"
      ],
      "text/plain": [
       "     sentence1    sentence2  label\n",
       "0     藏獒为什么这么贵    藏獒见人不咬为什么      0\n",
       "1  人生应该怎么才算精彩？  人生要怎么过才算精彩啊      1\n",
       "2     为什么打牌老是输  为什么我枪神纪进不去了      0\n",
       "3   现在网上卖什么最赚钱     网上卖什么最赚钱      1\n",
       "4       如何提高气质    怎样提高自身气质？      1"
      ]
     },
     "execution_count": 8,
     "metadata": {},
     "output_type": "execute_result"
    }
   ],
   "source": [
    "train.head()"
   ]
  },
  {
   "cell_type": "code",
   "execution_count": null,
   "id": "026a251b",
   "metadata": {},
   "outputs": [],
   "source": []
  }
 ],
 "metadata": {
  "kernelspec": {
   "display_name": "Python 3 (ipykernel)",
   "language": "python",
   "name": "python3"
  },
  "language_info": {
   "codemirror_mode": {
    "name": "ipython",
    "version": 3
   },
   "file_extension": ".py",
   "mimetype": "text/x-python",
   "name": "python",
   "nbconvert_exporter": "python",
   "pygments_lexer": "ipython3",
   "version": "3.9.7"
  },
  "toc": {
   "base_numbering": 1,
   "nav_menu": {},
   "number_sections": true,
   "sideBar": true,
   "skip_h1_title": false,
   "title_cell": "Table of Contents",
   "title_sidebar": "Contents",
   "toc_cell": false,
   "toc_position": {},
   "toc_section_display": true,
   "toc_window_display": true
  }
 },
 "nbformat": 4,
 "nbformat_minor": 5
}
