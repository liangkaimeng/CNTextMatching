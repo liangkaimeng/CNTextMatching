{
 "cells": [
  {
   "cell_type": "markdown",
   "id": "8723adaa",
   "metadata": {},
   "source": [
    "# 环境准备"
   ]
  },
  {
   "cell_type": "code",
   "execution_count": 42,
   "id": "113505eb",
   "metadata": {
    "ExecuteTime": {
     "end_time": "2022-10-18T07:19:13.491878Z",
     "start_time": "2022-10-18T07:19:13.484832Z"
    }
   },
   "outputs": [
    {
     "name": "stdout",
     "output_type": "stream",
     "text": [
      "Wall time: 0 ns\n"
     ]
    }
   ],
   "source": [
    "%%time\n",
    "import jieba\n",
    "import warnings\n",
    "import numpy as np\n",
    "import pandas as pd\n",
    "import tensorflow as tf\n",
    "import matplotlib.pyplot as plt\n",
    "from gensim.models import word2vec\n",
    "from sklearn.model_selection import train_test_split\n",
    "\n",
    "warnings.filterwarnings(\"ignore\")"
   ]
  },
  {
   "cell_type": "markdown",
   "id": "439c2998",
   "metadata": {},
   "source": [
    "# 加载数据"
   ]
  },
  {
   "cell_type": "code",
   "execution_count": 43,
   "id": "6f6d8594",
   "metadata": {
    "ExecuteTime": {
     "end_time": "2022-10-18T07:19:15.771456Z",
     "start_time": "2022-10-18T07:19:15.622701Z"
    }
   },
   "outputs": [
    {
     "name": "stdout",
     "output_type": "stream",
     "text": [
      "Wall time: 132 ms\n"
     ]
    }
   ],
   "source": [
    "%%time\n",
    "names = ['sentence1', 'sentence2', 'label']\n",
    "train = pd.read_csv(\"../xfdata/train.csv\", header=None, sep=\"\\t\", names=names)\n",
    "test = pd.read_csv(\"../xfdata/test.csv\", header=None, sep=\"\\t\", names=names)"
   ]
  },
  {
   "cell_type": "markdown",
   "id": "01f31007",
   "metadata": {},
   "source": [
    "# 特征工程"
   ]
  },
  {
   "cell_type": "markdown",
   "id": "34f6c563",
   "metadata": {},
   "source": [
    "## 中文分词"
   ]
  },
  {
   "cell_type": "code",
   "execution_count": 44,
   "id": "d53d0a21",
   "metadata": {
    "ExecuteTime": {
     "end_time": "2022-10-18T07:19:22.712902Z",
     "start_time": "2022-10-18T07:19:17.272011Z"
    }
   },
   "outputs": [
    {
     "name": "stdout",
     "output_type": "stream",
     "text": [
      "Wall time: 5.44 s\n"
     ]
    }
   ],
   "source": [
    "%%time\n",
    "def text_cut_words(short_dialogue_text, mapdict=None)->list:\n",
    "    cut_words = list(jieba.cut(short_dialogue_text, cut_all=False))\n",
    "    if mapdict != None:\n",
    "        words = [word if word not in mapdict else mapdict[word] for word in cut_words]\n",
    "    else:\n",
    "        words = cut_words\n",
    "    return words\n",
    "\n",
    "train[\"sentence1_words\"] = train[\"sentence1\"].apply(text_cut_words)\n",
    "train[\"sentence2_words\"] = train[\"sentence2\"].apply(text_cut_words)\n",
    "test[\"sentence1_words\"] = test[\"sentence1\"].apply(text_cut_words)\n",
    "test[\"sentence2_words\"] = test[\"sentence2\"].apply(text_cut_words)"
   ]
  },
  {
   "cell_type": "markdown",
   "id": "60e287e4",
   "metadata": {},
   "source": [
    "## 词向量化"
   ]
  },
  {
   "cell_type": "code",
   "execution_count": 45,
   "id": "eba0db2f",
   "metadata": {
    "ExecuteTime": {
     "end_time": "2022-10-18T07:19:26.172930Z",
     "start_time": "2022-10-18T07:19:25.251670Z"
    }
   },
   "outputs": [
    {
     "name": "stdout",
     "output_type": "stream",
     "text": [
      "Wall time: 906 ms\n"
     ]
    }
   ],
   "source": [
    "%%time\n",
    "# 创建一个Tokenizer对象\n",
    "tokenizer = tf.keras.preprocessing.text.Tokenizer()\n",
    "# fit_on_texts函数可以将输入的文本中的每个词编号，编号是根据词频的，词频越大，编号越小\n",
    "tokenizer.fit_on_texts(train['sentence1_words'].tolist() + train['sentence2_words'].tolist())\n",
    "# 得到每个词的编号\n",
    "vocab=tokenizer.word_index\n",
    "\n",
    "# 将每个样本中的每个词转换为数字列表，使用每个词的编号进行编号\n",
    "x_train_word1_ids = tokenizer.texts_to_sequences(train['sentence1_words'])\n",
    "x_train_word2_ids = tokenizer.texts_to_sequences(train['sentence2_words'])\n",
    "x_test_word1_ids = tokenizer.texts_to_sequences(test['sentence1_words'])\n",
    "x_test_word2_ids = tokenizer.texts_to_sequences(test['sentence2_words'])\n",
    "\n",
    "# 合并列表\n",
    "x_train_word_ids = []\n",
    "for i,j in zip(x_train_word1_ids, x_train_word2_ids):\n",
    "    x_train_word_ids.append(i + j)\n",
    "x_test_word_ids = []\n",
    "for i,j in zip(x_test_word1_ids, x_test_word2_ids):\n",
    "    x_test_word_ids.append(i + j)\n",
    "    \n",
    "# 生成序列：每条样本长度不唯一，将每条样本的长度设置一个固定值。将超过固定值的部分截掉，不足的在最前面用0填充\n",
    "x_train_padded_seqs = tf.keras.preprocessing.sequence.pad_sequences(x_train_word_ids, maxlen=50)\n",
    "x_test_padded_seqs = tf.keras.preprocessing.sequence.pad_sequences(x_test_word_ids, maxlen=50)"
   ]
  },
  {
   "cell_type": "markdown",
   "id": "f70aa955",
   "metadata": {},
   "source": [
    "# LeNet-5模型"
   ]
  },
  {
   "cell_type": "markdown",
   "id": "e07f0d32",
   "metadata": {},
   "source": [
    "## 构造网络"
   ]
  },
  {
   "cell_type": "code",
   "execution_count": 54,
   "id": "f250975f",
   "metadata": {
    "ExecuteTime": {
     "end_time": "2022-10-18T07:21:12.774095Z",
     "start_time": "2022-10-18T07:21:12.659370Z"
    }
   },
   "outputs": [
    {
     "name": "stdout",
     "output_type": "stream",
     "text": [
      "Wall time: 109 ms\n"
     ]
    }
   ],
   "source": [
    "%%time\n",
    "model = tf.keras.Sequential()\n",
    "model.add(tf.keras.layers.Embedding(len(vocab) + 1, 300, input_length=50)) #使用Embeeding层将每个词编码转换为词向量\n",
    "model.add(tf.keras.layers.Conv1D(256, 5, padding='same'))\n",
    "model.add(tf.keras.layers.MaxPooling1D(3, 3, padding='same'))\n",
    "model.add(tf.keras.layers.Conv1D(128, 5, padding='same'))\n",
    "model.add(tf.keras.layers.MaxPooling1D(3, 3, padding='same'))\n",
    "model.add(tf.keras.layers.Conv1D(64, 3, padding='same'))\n",
    "model.add(tf.keras.layers.Flatten())\n",
    "model.add(tf.keras.layers.Dropout(0.1))\n",
    "model.add(tf.keras.layers.BatchNormalization())  # (批)规范化层\n",
    "model.add(tf.keras.layers.Dense(256, activation='relu'))\n",
    "model.add(tf.keras.layers.Dropout(0.1))\n",
    "model.add(tf.keras.layers.Dense(2, activation='sigmoid'))"
   ]
  },
  {
   "cell_type": "markdown",
   "id": "3941168f",
   "metadata": {},
   "source": [
    "## 查看结构"
   ]
  },
  {
   "cell_type": "code",
   "execution_count": 55,
   "id": "a04b7091",
   "metadata": {
    "ExecuteTime": {
     "end_time": "2022-10-18T07:21:13.561796Z",
     "start_time": "2022-10-18T07:21:13.535873Z"
    }
   },
   "outputs": [
    {
     "name": "stdout",
     "output_type": "stream",
     "text": [
      "Model: \"sequential_4\"\n",
      "_________________________________________________________________\n",
      " Layer (type)                Output Shape              Param #   \n",
      "=================================================================\n",
      " embedding_3 (Embedding)     (None, 50, 300)           7106700   \n",
      "                                                                 \n",
      " conv1d_9 (Conv1D)           (None, 50, 256)           384256    \n",
      "                                                                 \n",
      " max_pooling1d_6 (MaxPooling  (None, 17, 256)          0         \n",
      " 1D)                                                             \n",
      "                                                                 \n",
      " conv1d_10 (Conv1D)          (None, 17, 128)           163968    \n",
      "                                                                 \n",
      " max_pooling1d_7 (MaxPooling  (None, 6, 128)           0         \n",
      " 1D)                                                             \n",
      "                                                                 \n",
      " conv1d_11 (Conv1D)          (None, 6, 64)             24640     \n",
      "                                                                 \n",
      " flatten_3 (Flatten)         (None, 384)               0         \n",
      "                                                                 \n",
      " dropout_6 (Dropout)         (None, 384)               0         \n",
      "                                                                 \n",
      " batch_normalization_3 (Batc  (None, 384)              1536      \n",
      " hNormalization)                                                 \n",
      "                                                                 \n",
      " dense_6 (Dense)             (None, 256)               98560     \n",
      "                                                                 \n",
      " dropout_7 (Dropout)         (None, 256)               0         \n",
      "                                                                 \n",
      " dense_7 (Dense)             (None, 2)                 514       \n",
      "                                                                 \n",
      "=================================================================\n",
      "Total params: 7,780,174\n",
      "Trainable params: 7,779,406\n",
      "Non-trainable params: 768\n",
      "_________________________________________________________________\n"
     ]
    }
   ],
   "source": [
    "model.summary()"
   ]
  },
  {
   "cell_type": "markdown",
   "id": "044a735c",
   "metadata": {},
   "source": [
    "## 模型编译"
   ]
  },
  {
   "cell_type": "code",
   "execution_count": 56,
   "id": "7d20e14d",
   "metadata": {
    "ExecuteTime": {
     "end_time": "2022-10-18T07:21:15.177285Z",
     "start_time": "2022-10-18T07:21:15.165326Z"
    }
   },
   "outputs": [
    {
     "name": "stdout",
     "output_type": "stream",
     "text": [
      "Wall time: 3.99 ms\n"
     ]
    }
   ],
   "source": [
    "%%time\n",
    "model.compile(loss='categorical_crossentropy', optimizer='adam', metrics=['accuracy'])"
   ]
  },
  {
   "cell_type": "markdown",
   "id": "0cc13425",
   "metadata": {},
   "source": [
    "## 模型训练"
   ]
  },
  {
   "cell_type": "code",
   "execution_count": 58,
   "id": "2e0c7c87",
   "metadata": {
    "ExecuteTime": {
     "end_time": "2022-10-18T07:24:59.921977Z",
     "start_time": "2022-10-18T07:22:27.024824Z"
    }
   },
   "outputs": [
    {
     "name": "stdout",
     "output_type": "stream",
     "text": [
      "Epoch 1/5\n",
      "44/44 [==============================] - 30s 690ms/step - loss: 0.1322 - accuracy: 0.9510 - val_loss: 0.6104 - val_accuracy: 0.7201\n",
      "Epoch 2/5\n",
      "44/44 [==============================] - 30s 688ms/step - loss: 0.0545 - accuracy: 0.9828 - val_loss: 0.5643 - val_accuracy: 0.7246\n",
      "Epoch 3/5\n",
      "44/44 [==============================] - 30s 687ms/step - loss: 0.0281 - accuracy: 0.9925 - val_loss: 0.5592 - val_accuracy: 0.7183\n",
      "Epoch 4/5\n",
      "44/44 [==============================] - 30s 689ms/step - loss: 0.0145 - accuracy: 0.9968 - val_loss: 0.5609 - val_accuracy: 0.7183\n",
      "Epoch 5/5\n",
      "44/44 [==============================] - 32s 732ms/step - loss: 0.0081 - accuracy: 0.9983 - val_loss: 0.5834 - val_accuracy: 0.7218\n",
      "Wall time: 2min 32s\n"
     ]
    }
   ],
   "source": [
    "%%time\n",
    "one_hot_labels = tf.keras.utils.to_categorical(train['label'], num_classes=2)  # 将标签转换为one-hot编码\n",
    "history = model.fit(x_train_padded_seqs, one_hot_labels, epochs=5, batch_size=800, validation_split=0.3)"
   ]
  },
  {
   "cell_type": "markdown",
   "id": "b017db89",
   "metadata": {},
   "source": [
    "## 模型预测"
   ]
  },
  {
   "cell_type": "code",
   "execution_count": null,
   "id": "418dc70e",
   "metadata": {
    "ExecuteTime": {
     "start_time": "2022-10-18T07:30:33.045Z"
    }
   },
   "outputs": [
    {
     "name": "stdout",
     "output_type": "stream",
     "text": [
      "410/625 [==================>...........] - ETA: 1s"
     ]
    }
   ],
   "source": [
    "%%time\n",
    "y_pred = model.predict(x_test_padded_seqs)  # 预测的是类别，结果就是类别号\n",
    "y_pred = np.argmax(y_pred, axis=1)\n",
    "pd.Series(y_pred).to_csv(\"../prediction-result/submit.csv\", index=False, header=None)"
   ]
  },
  {
   "cell_type": "markdown",
   "id": "5b6f20d5",
   "metadata": {},
   "source": [
    "# 输出模型结构"
   ]
  },
  {
   "cell_type": "code",
   "execution_count": 63,
   "id": "b26f3fd0",
   "metadata": {
    "ExecuteTime": {
     "end_time": "2022-10-18T07:28:17.491383Z",
     "start_time": "2022-10-18T07:28:17.197415Z"
    }
   },
   "outputs": [
    {
     "data": {
      "image/png": "[encoded data removed]",
      "text/plain": [
       "<IPython.core.display.Image object>"
      ]
     },
     "execution_count": 63,
     "metadata": {},
     "output_type": "execute_result"
    }
   ],
   "source": [
    "from tensorflow.keras.utils import plot_model\n",
    "\n",
    "plot_model(model, to_file='../prediction-result/model.png', show_shapes=True, show_layer_names=False)"
   ]
  },
  {
   "cell_type": "code",
   "execution_count": null,
   "id": "c9ded3b8",
   "metadata": {},
   "outputs": [],
   "source": []
  }
 ],
 "metadata": {
  "kernelspec": {
   "display_name": "Python 3 (ipykernel)",
   "language": "python",
   "name": "python3"
  },
  "language_info": {
   "codemirror_mode": {
    "name": "ipython",
    "version": 3
   },
   "file_extension": ".py",
   "mimetype": "text/x-python",
   "name": "python",
   "nbconvert_exporter": "python",
   "pygments_lexer": "ipython3",
   "version": "3.9.7"
  },
  "toc": {
   "base_numbering": 1,
   "nav_menu": {},
   "number_sections": true,
   "sideBar": true,
   "skip_h1_title": false,
   "title_cell": "Table of Contents",
   "title_sidebar": "Contents",
   "toc_cell": false,
   "toc_position": {},
   "toc_section_display": true,
   "toc_window_display": true
  }
 },
 "nbformat": 4,
 "nbformat_minor": 5
}
