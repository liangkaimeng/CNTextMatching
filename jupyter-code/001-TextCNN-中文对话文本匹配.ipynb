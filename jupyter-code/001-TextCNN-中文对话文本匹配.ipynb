{
 "cells": [
  {
   "cell_type": "markdown",
   "id": "947a7562",
   "metadata": {},
   "source": [
    "# 环境准备"
   ]
  },
  {
   "cell_type": "code",
   "execution_count": 1,
   "id": "189c6616",
   "metadata": {
    "ExecuteTime": {
     "end_time": "2022-10-18T02:35:56.942907Z",
     "start_time": "2022-10-18T02:35:54.317179Z"
    }
   },
   "outputs": [
    {
     "name": "stdout",
     "output_type": "stream",
     "text": [
      "Wall time: 2.61 s\n"
     ]
    }
   ],
   "source": [
    "%%time\n",
    "import jieba\n",
    "import warnings\n",
    "import numpy as np\n",
    "import pandas as pd\n",
    "import tensorflow as tf\n",
    "import matplotlib.pyplot as plt\n",
    "from gensim.models import word2vec\n",
    "\n",
    "warnings.filterwarnings(\"ignore\")"
   ]
  },
  {
   "cell_type": "markdown",
   "id": "c95b3726",
   "metadata": {},
   "source": [
    "# 加载数据"
   ]
  },
  {
   "cell_type": "code",
   "execution_count": 13,
   "id": "56a5b967",
   "metadata": {
    "ExecuteTime": {
     "end_time": "2022-10-18T02:58:36.201833Z",
     "start_time": "2022-10-18T02:58:36.094213Z"
    }
   },
   "outputs": [
    {
     "name": "stdout",
     "output_type": "stream",
     "text": [
      "Wall time: 105 ms\n"
     ]
    }
   ],
   "source": [
    "%%time\n",
    "names = ['sentence1', 'sentence2', 'label']\n",
    "train = pd.read_csv(\"../xfdata/train.csv\", header=None, sep=\"\\t\", names=names)\n",
    "test = pd.read_csv(\"../xfdata/test.csv\", header=None, sep=\"\\t\", names=names)"
   ]
  },
  {
   "cell_type": "markdown",
   "id": "2130626e",
   "metadata": {},
   "source": [
    "# 查看数据"
   ]
  },
  {
   "cell_type": "code",
   "execution_count": 15,
   "id": "8ce45503",
   "metadata": {
    "ExecuteTime": {
     "end_time": "2022-10-18T02:59:45.567879Z",
     "start_time": "2022-10-18T02:59:45.545472Z"
    }
   },
   "outputs": [
    {
     "name": "stdout",
     "output_type": "stream",
     "text": [
      "Wall time: 0 ns\n"
     ]
    },
    {
     "data": {
      "text/html": [
       "<div>\n",
       "<style scoped>\n",
       "    .dataframe tbody tr th:only-of-type {\n",
       "        vertical-align: middle;\n",
       "    }\n",
       "\n",
       "    .dataframe tbody tr th {\n",
       "        vertical-align: top;\n",
       "    }\n",
       "\n",
       "    .dataframe thead th {\n",
       "        text-align: right;\n",
       "    }\n",
       "</style>\n",
       "<table border=\"1\" class=\"dataframe\">\n",
       "  <thead>\n",
       "    <tr style=\"text-align: right;\">\n",
       "      <th></th>\n",
       "      <th>sentence1</th>\n",
       "      <th>sentence2</th>\n",
       "      <th>label</th>\n",
       "    </tr>\n",
       "  </thead>\n",
       "  <tbody>\n",
       "    <tr>\n",
       "      <th>0</th>\n",
       "      <td>藏獒为什么这么贵</td>\n",
       "      <td>藏獒见人不咬为什么</td>\n",
       "      <td>0</td>\n",
       "    </tr>\n",
       "    <tr>\n",
       "      <th>1</th>\n",
       "      <td>人生应该怎么才算精彩？</td>\n",
       "      <td>人生要怎么过才算精彩啊</td>\n",
       "      <td>1</td>\n",
       "    </tr>\n",
       "    <tr>\n",
       "      <th>2</th>\n",
       "      <td>为什么打牌老是输</td>\n",
       "      <td>为什么我枪神纪进不去了</td>\n",
       "      <td>0</td>\n",
       "    </tr>\n",
       "    <tr>\n",
       "      <th>3</th>\n",
       "      <td>现在网上卖什么最赚钱</td>\n",
       "      <td>网上卖什么最赚钱</td>\n",
       "      <td>1</td>\n",
       "    </tr>\n",
       "    <tr>\n",
       "      <th>4</th>\n",
       "      <td>如何提高气质</td>\n",
       "      <td>怎样提高自身气质？</td>\n",
       "      <td>1</td>\n",
       "    </tr>\n",
       "  </tbody>\n",
       "</table>\n",
       "</div>"
      ],
      "text/plain": [
       "     sentence1    sentence2  label\n",
       "0     藏獒为什么这么贵    藏獒见人不咬为什么      0\n",
       "1  人生应该怎么才算精彩？  人生要怎么过才算精彩啊      1\n",
       "2     为什么打牌老是输  为什么我枪神纪进不去了      0\n",
       "3   现在网上卖什么最赚钱     网上卖什么最赚钱      1\n",
       "4       如何提高气质    怎样提高自身气质？      1"
      ]
     },
     "execution_count": 15,
     "metadata": {},
     "output_type": "execute_result"
    }
   ],
   "source": [
    "%%time\n",
    "train.head()"
   ]
  },
  {
   "cell_type": "markdown",
   "id": "41db2e1d",
   "metadata": {},
   "source": [
    "# 特征工程"
   ]
  },
  {
   "cell_type": "markdown",
   "id": "2533de19",
   "metadata": {},
   "source": [
    "## 中文分词"
   ]
  },
  {
   "cell_type": "code",
   "execution_count": 19,
   "id": "f326a0b0",
   "metadata": {
    "ExecuteTime": {
     "end_time": "2022-10-18T03:09:13.859090Z",
     "start_time": "2022-10-18T03:09:08.648548Z"
    }
   },
   "outputs": [
    {
     "name": "stdout",
     "output_type": "stream",
     "text": [
      "Wall time: 5.19 s\n"
     ]
    }
   ],
   "source": [
    "%%time\n",
    "def text_cut_words(short_dialogue_text, mapdict=None)->list:\n",
    "    cut_words = list(jieba.cut(short_dialogue_text, cut_all=False))\n",
    "    if mapdict != None:\n",
    "        words = [word if word not in mapdict else mapdict[word] for word in cut_words]\n",
    "    else:\n",
    "        words = cut_words\n",
    "    return words\n",
    "\n",
    "train[\"sentence1_words\"] = train[\"sentence1\"].apply(text_cut_words)\n",
    "train[\"sentence2_words\"] = train[\"sentence2\"].apply(text_cut_words)\n",
    "test[\"sentence1_words\"] = test[\"sentence1\"].apply(text_cut_words)\n",
    "test[\"sentence2_words\"] = test[\"sentence2\"].apply(text_cut_words)"
   ]
  },
  {
   "cell_type": "markdown",
   "id": "0ad0c63a",
   "metadata": {},
   "source": [
    "## 词向量化"
   ]
  },
  {
   "cell_type": "code",
   "execution_count": 28,
   "id": "4ba8ae70",
   "metadata": {
    "ExecuteTime": {
     "end_time": "2022-10-18T03:35:13.770868Z",
     "start_time": "2022-10-18T03:34:58.172871Z"
    }
   },
   "outputs": [
    {
     "name": "stdout",
     "output_type": "stream",
     "text": [
      "Wall time: 15.6 s\n"
     ]
    }
   ],
   "source": [
    "%%time\n",
    "def word2vec_model(sentences):\n",
    "    return word2vec.Word2Vec(sentences=sentences, vector_size=30, window=10, min_count=1, workers=8, sg=1)\n",
    "\n",
    "def w2v_sent2vec(words, model)->list:\n",
    "    matrix = []\n",
    "    for word in words:\n",
    "        try:\n",
    "            matrix.append(model.wv[str(word)])\n",
    "        except KeyError:\n",
    "            continue\n",
    "    if len(matrix) == 0:\n",
    "        matrix.append(0)\n",
    "    matrix = 30 * matrix\n",
    "    matrix = np.array(matrix)\n",
    "    vector = matrix.sum(axis=0)\n",
    "    vector_transform = (vector / np.sqrt((vector ** 2).sum())).astype(np.float32).tolist()\n",
    "    return vector_transform\n",
    "\n",
    "w2v_model = word2vec_model(train[\"sentence1_words\"].tolist() + train[\"sentence2_words\"].tolist())\n",
    "feature_names = [\"vec1_{}\".format(str(i)) for i in range(30)]\n",
    "train[feature_names] = train.apply(lambda row: w2v_sent2vec(row[\"sentence1_words\"], w2v_model), result_type=\"expand\", axis=1)\n",
    "test[feature_names] = test.apply(lambda row: w2v_sent2vec(row[\"sentence1_words\"], w2v_model), result_type=\"expand\", axis=1)\n",
    "\n",
    "feature_names = [\"vec2_{}\".format(str(i)) for i in range(30)]\n",
    "train[feature_names] = train.apply(lambda row: w2v_sent2vec(row[\"sentence2_words\"], w2v_model), result_type=\"expand\", axis=1)\n",
    "test[feature_names] = test.apply(lambda row: w2v_sent2vec(row[\"sentence2_words\"], w2v_model), result_type=\"expand\", axis=1)"
   ]
  },
  {
   "cell_type": "markdown",
   "id": "e33e7269",
   "metadata": {},
   "source": [
    "## "
   ]
  }
 ],
 "metadata": {
  "kernelspec": {
   "display_name": "Python 3 (ipykernel)",
   "language": "python",
   "name": "python3"
  },
  "language_info": {
   "codemirror_mode": {
    "name": "ipython",
    "version": 3
   },
   "file_extension": ".py",
   "mimetype": "text/x-python",
   "name": "python",
   "nbconvert_exporter": "python",
   "pygments_lexer": "ipython3",
   "version": "3.9.7"
  },
  "toc": {
   "base_numbering": 1,
   "nav_menu": {},
   "number_sections": true,
   "sideBar": true,
   "skip_h1_title": false,
   "title_cell": "Table of Contents",
   "title_sidebar": "Contents",
   "toc_cell": false,
   "toc_position": {},
   "toc_section_display": true,
   "toc_window_display": true
  }
 },
 "nbformat": 4,
 "nbformat_minor": 5
}
