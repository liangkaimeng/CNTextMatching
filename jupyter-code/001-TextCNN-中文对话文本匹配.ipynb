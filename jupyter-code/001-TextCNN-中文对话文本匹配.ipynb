{
 "cells": [
  {
   "cell_type": "markdown",
   "id": "4e1fe340",
   "metadata": {},
   "source": [
    "# 环境准备"
   ]
  },
  {
   "cell_type": "code",
   "execution_count": 31,
   "id": "396820b4",
   "metadata": {
    "ExecuteTime": {
     "end_time": "2022-10-18T06:17:12.221494Z",
     "start_time": "2022-10-18T06:17:12.204603Z"
    }
   },
   "outputs": [
    {
     "name": "stdout",
     "output_type": "stream",
     "text": [
      "Wall time: 0 ns\n"
     ]
    }
   ],
   "source": [
    "%%time\n",
    "import jieba\n",
    "import warnings\n",
    "import numpy as np\n",
    "import pandas as pd\n",
    "import tensorflow as tf\n",
    "import matplotlib.pyplot as plt\n",
    "from gensim.models import word2vec\n",
    "from sklearn.model_selection import train_test_split\n",
    "\n",
    "warnings.filterwarnings(\"ignore\")"
   ]
  },
  {
   "cell_type": "markdown",
   "id": "716035ca",
   "metadata": {},
   "source": [
    "# 加载数据"
   ]
  },
  {
   "cell_type": "code",
   "execution_count": 13,
   "id": "11d69e0f",
   "metadata": {
    "ExecuteTime": {
     "end_time": "2022-10-18T02:58:36.201833Z",
     "start_time": "2022-10-18T02:58:36.094213Z"
    }
   },
   "outputs": [
    {
     "name": "stdout",
     "output_type": "stream",
     "text": [
      "Wall time: 105 ms\n"
     ]
    }
   ],
   "source": [
    "%%time\n",
    "names = ['sentence1', 'sentence2', 'label']\n",
    "train = pd.read_csv(\"../xfdata/train.csv\", header=None, sep=\"\\t\", names=names)\n",
    "test = pd.read_csv(\"../xfdata/test.csv\", header=None, sep=\"\\t\", names=names)"
   ]
  },
  {
   "cell_type": "markdown",
   "id": "9b231653",
   "metadata": {},
   "source": [
    "# 查看数据"
   ]
  },
  {
   "cell_type": "code",
   "execution_count": 15,
   "id": "50032dee",
   "metadata": {
    "ExecuteTime": {
     "end_time": "2022-10-18T02:59:45.567879Z",
     "start_time": "2022-10-18T02:59:45.545472Z"
    }
   },
   "outputs": [
    {
     "name": "stdout",
     "output_type": "stream",
     "text": [
      "Wall time: 0 ns\n"
     ]
    },
    {
     "data": {
      "text/html": [
       "<div>\n",
       "<style scoped>\n",
       "    .dataframe tbody tr th:only-of-type {\n",
       "        vertical-align: middle;\n",
       "    }\n",
       "\n",
       "    .dataframe tbody tr th {\n",
       "        vertical-align: top;\n",
       "    }\n",
       "\n",
       "    .dataframe thead th {\n",
       "        text-align: right;\n",
       "    }\n",
       "</style>\n",
       "<table border=\"1\" class=\"dataframe\">\n",
       "  <thead>\n",
       "    <tr style=\"text-align: right;\">\n",
       "      <th></th>\n",
       "      <th>sentence1</th>\n",
       "      <th>sentence2</th>\n",
       "      <th>label</th>\n",
       "    </tr>\n",
       "  </thead>\n",
       "  <tbody>\n",
       "    <tr>\n",
       "      <th>0</th>\n",
       "      <td>藏獒为什么这么贵</td>\n",
       "      <td>藏獒见人不咬为什么</td>\n",
       "      <td>0</td>\n",
       "    </tr>\n",
       "    <tr>\n",
       "      <th>1</th>\n",
       "      <td>人生应该怎么才算精彩？</td>\n",
       "      <td>人生要怎么过才算精彩啊</td>\n",
       "      <td>1</td>\n",
       "    </tr>\n",
       "    <tr>\n",
       "      <th>2</th>\n",
       "      <td>为什么打牌老是输</td>\n",
       "      <td>为什么我枪神纪进不去了</td>\n",
       "      <td>0</td>\n",
       "    </tr>\n",
       "    <tr>\n",
       "      <th>3</th>\n",
       "      <td>现在网上卖什么最赚钱</td>\n",
       "      <td>网上卖什么最赚钱</td>\n",
       "      <td>1</td>\n",
       "    </tr>\n",
       "    <tr>\n",
       "      <th>4</th>\n",
       "      <td>如何提高气质</td>\n",
       "      <td>怎样提高自身气质？</td>\n",
       "      <td>1</td>\n",
       "    </tr>\n",
       "  </tbody>\n",
       "</table>\n",
       "</div>"
      ],
      "text/plain": [
       "     sentence1    sentence2  label\n",
       "0     藏獒为什么这么贵    藏獒见人不咬为什么      0\n",
       "1  人生应该怎么才算精彩？  人生要怎么过才算精彩啊      1\n",
       "2     为什么打牌老是输  为什么我枪神纪进不去了      0\n",
       "3   现在网上卖什么最赚钱     网上卖什么最赚钱      1\n",
       "4       如何提高气质    怎样提高自身气质？      1"
      ]
     },
     "execution_count": 15,
     "metadata": {},
     "output_type": "execute_result"
    }
   ],
   "source": [
    "%%time\n",
    "train.head()"
   ]
  },
  {
   "cell_type": "markdown",
   "id": "6f76c9bb",
   "metadata": {},
   "source": [
    "# 特征工程"
   ]
  },
  {
   "cell_type": "markdown",
   "id": "612d9897",
   "metadata": {},
   "source": [
    "## 中文分词"
   ]
  },
  {
   "cell_type": "code",
   "execution_count": 19,
   "id": "45ccdeac",
   "metadata": {
    "ExecuteTime": {
     "end_time": "2022-10-18T03:09:13.859090Z",
     "start_time": "2022-10-18T03:09:08.648548Z"
    }
   },
   "outputs": [
    {
     "name": "stdout",
     "output_type": "stream",
     "text": [
      "Wall time: 5.19 s\n"
     ]
    }
   ],
   "source": [
    "%%time\n",
    "def text_cut_words(short_dialogue_text, mapdict=None)->list:\n",
    "    cut_words = list(jieba.cut(short_dialogue_text, cut_all=False))\n",
    "    if mapdict != None:\n",
    "        words = [word if word not in mapdict else mapdict[word] for word in cut_words]\n",
    "    else:\n",
    "        words = cut_words\n",
    "    return words\n",
    "\n",
    "train[\"sentence1_words\"] = train[\"sentence1\"].apply(text_cut_words)\n",
    "train[\"sentence2_words\"] = train[\"sentence2\"].apply(text_cut_words)\n",
    "test[\"sentence1_words\"] = test[\"sentence1\"].apply(text_cut_words)\n",
    "test[\"sentence2_words\"] = test[\"sentence2\"].apply(text_cut_words)"
   ]
  },
  {
   "cell_type": "markdown",
   "id": "0ba2af31",
   "metadata": {},
   "source": [
    "## 词向量化"
   ]
  },
  {
   "cell_type": "code",
   "execution_count": 28,
   "id": "79b32593",
   "metadata": {
    "ExecuteTime": {
     "end_time": "2022-10-18T03:35:13.770868Z",
     "start_time": "2022-10-18T03:34:58.172871Z"
    }
   },
   "outputs": [
    {
     "name": "stdout",
     "output_type": "stream",
     "text": [
      "Wall time: 15.6 s\n"
     ]
    }
   ],
   "source": [
    "%%time\n",
    "def word2vec_model(sentences):\n",
    "    return word2vec.Word2Vec(sentences=sentences, vector_size=300, window=10, min_count=1, workers=8, sg=1)\n",
    "\n",
    "def w2v_sent2vec(words, model)->list:\n",
    "    matrix = []\n",
    "    for word in words:\n",
    "        try:\n",
    "            matrix.append(model.wv[str(word)])\n",
    "        except KeyError:\n",
    "            continue\n",
    "    if len(matrix) == 0:\n",
    "        matrix.append(0)\n",
    "    matrix = 300 * matrix\n",
    "    matrix = np.array(matrix)\n",
    "    vector = matrix.sum(axis=0)\n",
    "    vector_transform = (vector / np.sqrt((vector ** 2).sum())).astype(np.float32).tolist()\n",
    "    return vector_transform\n",
    "\n",
    "w2v_model = word2vec_model(train[\"sentence1_words\"].tolist() + train[\"sentence2_words\"].tolist())\n",
    "feature_names = [\"vec1_{}\".format(str(i)) for i in range(300)]\n",
    "train[feature_names] = train.apply(lambda row: w2v_sent2vec(row[\"sentence1_words\"], w2v_model), result_type=\"expand\", axis=1)\n",
    "test[feature_names] = test.apply(lambda row: w2v_sent2vec(row[\"sentence1_words\"], w2v_model), result_type=\"expand\", axis=1)\n",
    "\n",
    "feature_names = [\"vec2_{}\".format(str(i)) for i in range(300)]\n",
    "train[feature_names] = train.apply(lambda row: w2v_sent2vec(row[\"sentence2_words\"], w2v_model), result_type=\"expand\", axis=1)\n",
    "test[feature_names] = test.apply(lambda row: w2v_sent2vec(row[\"sentence2_words\"], w2v_model), result_type=\"expand\", axis=1)"
   ]
  },
  {
   "cell_type": "markdown",
   "id": "3fb8604f",
   "metadata": {},
   "source": [
    "## 查看数据"
   ]
  },
  {
   "cell_type": "code",
   "execution_count": 30,
   "id": "5a16971f",
   "metadata": {
    "ExecuteTime": {
     "end_time": "2022-10-18T03:36:12.312665Z",
     "start_time": "2022-10-18T03:36:12.287673Z"
    }
   },
   "outputs": [
    {
     "data": {
      "text/html": [
       "<div>\n",
       "<style scoped>\n",
       "    .dataframe tbody tr th:only-of-type {\n",
       "        vertical-align: middle;\n",
       "    }\n",
       "\n",
       "    .dataframe tbody tr th {\n",
       "        vertical-align: top;\n",
       "    }\n",
       "\n",
       "    .dataframe thead th {\n",
       "        text-align: right;\n",
       "    }\n",
       "</style>\n",
       "<table border=\"1\" class=\"dataframe\">\n",
       "  <thead>\n",
       "    <tr style=\"text-align: right;\">\n",
       "      <th></th>\n",
       "      <th>sentence1</th>\n",
       "      <th>sentence2</th>\n",
       "      <th>label</th>\n",
       "      <th>sentence1_words</th>\n",
       "      <th>sentence2_words</th>\n",
       "      <th>vec1_1</th>\n",
       "      <th>vec1_0</th>\n",
       "      <th>vec1_2</th>\n",
       "      <th>vec1_3</th>\n",
       "      <th>vec1_4</th>\n",
       "      <th>...</th>\n",
       "      <th>vec2_20</th>\n",
       "      <th>vec2_21</th>\n",
       "      <th>vec2_22</th>\n",
       "      <th>vec2_23</th>\n",
       "      <th>vec2_24</th>\n",
       "      <th>vec2_25</th>\n",
       "      <th>vec2_26</th>\n",
       "      <th>vec2_27</th>\n",
       "      <th>vec2_28</th>\n",
       "      <th>vec2_29</th>\n",
       "    </tr>\n",
       "  </thead>\n",
       "  <tbody>\n",
       "    <tr>\n",
       "      <th>0</th>\n",
       "      <td>藏獒为什么这么贵</td>\n",
       "      <td>藏獒见人不咬为什么</td>\n",
       "      <td>0</td>\n",
       "      <td>[藏獒, 为什么, 这么, 贵]</td>\n",
       "      <td>[藏獒, 见, 人, 不, 咬, 为什么]</td>\n",
       "      <td>-0.239464</td>\n",
       "      <td>-0.121251</td>\n",
       "      <td>0.135171</td>\n",
       "      <td>0.305566</td>\n",
       "      <td>0.119762</td>\n",
       "      <td>...</td>\n",
       "      <td>-0.112501</td>\n",
       "      <td>-0.085315</td>\n",
       "      <td>-0.060292</td>\n",
       "      <td>0.370697</td>\n",
       "      <td>0.145503</td>\n",
       "      <td>0.084740</td>\n",
       "      <td>0.303218</td>\n",
       "      <td>0.377802</td>\n",
       "      <td>-0.017046</td>\n",
       "      <td>-0.423276</td>\n",
       "    </tr>\n",
       "    <tr>\n",
       "      <th>1</th>\n",
       "      <td>人生应该怎么才算精彩？</td>\n",
       "      <td>人生要怎么过才算精彩啊</td>\n",
       "      <td>1</td>\n",
       "      <td>[人生, 应该, 怎么, 才, 算, 精彩, ？]</td>\n",
       "      <td>[人生, 要, 怎么, 过, 才, 算, 精彩, 啊]</td>\n",
       "      <td>-0.076702</td>\n",
       "      <td>0.043066</td>\n",
       "      <td>0.288888</td>\n",
       "      <td>0.080856</td>\n",
       "      <td>0.027467</td>\n",
       "      <td>...</td>\n",
       "      <td>0.105474</td>\n",
       "      <td>-0.182471</td>\n",
       "      <td>-0.159379</td>\n",
       "      <td>0.462175</td>\n",
       "      <td>0.223113</td>\n",
       "      <td>0.194785</td>\n",
       "      <td>0.177204</td>\n",
       "      <td>0.145913</td>\n",
       "      <td>0.045965</td>\n",
       "      <td>-0.216800</td>\n",
       "    </tr>\n",
       "    <tr>\n",
       "      <th>2</th>\n",
       "      <td>为什么打牌老是输</td>\n",
       "      <td>为什么我枪神纪进不去了</td>\n",
       "      <td>0</td>\n",
       "      <td>[为什么, 打牌, 老是, 输]</td>\n",
       "      <td>[为什么, 我, 枪神, 纪, 进不去, 了]</td>\n",
       "      <td>-0.213117</td>\n",
       "      <td>-0.092190</td>\n",
       "      <td>0.040614</td>\n",
       "      <td>0.113659</td>\n",
       "      <td>0.081719</td>\n",
       "      <td>...</td>\n",
       "      <td>-0.045531</td>\n",
       "      <td>-0.099590</td>\n",
       "      <td>-0.004021</td>\n",
       "      <td>0.307213</td>\n",
       "      <td>0.156712</td>\n",
       "      <td>0.052207</td>\n",
       "      <td>0.125242</td>\n",
       "      <td>0.367955</td>\n",
       "      <td>-0.050377</td>\n",
       "      <td>-0.547881</td>\n",
       "    </tr>\n",
       "    <tr>\n",
       "      <th>3</th>\n",
       "      <td>现在网上卖什么最赚钱</td>\n",
       "      <td>网上卖什么最赚钱</td>\n",
       "      <td>1</td>\n",
       "      <td>[现在, 网上, 卖, 什么, 最, 赚钱]</td>\n",
       "      <td>[网上, 卖, 什么, 最, 赚钱]</td>\n",
       "      <td>0.100445</td>\n",
       "      <td>-0.101776</td>\n",
       "      <td>0.462573</td>\n",
       "      <td>0.001133</td>\n",
       "      <td>-0.056483</td>\n",
       "      <td>...</td>\n",
       "      <td>0.043075</td>\n",
       "      <td>-0.076738</td>\n",
       "      <td>0.060750</td>\n",
       "      <td>0.476237</td>\n",
       "      <td>0.066865</td>\n",
       "      <td>0.144340</td>\n",
       "      <td>0.047456</td>\n",
       "      <td>0.060169</td>\n",
       "      <td>-0.116806</td>\n",
       "      <td>-0.147685</td>\n",
       "    </tr>\n",
       "    <tr>\n",
       "      <th>4</th>\n",
       "      <td>如何提高气质</td>\n",
       "      <td>怎样提高自身气质？</td>\n",
       "      <td>1</td>\n",
       "      <td>[如何, 提高, 气质]</td>\n",
       "      <td>[怎样, 提高, 自身, 气质, ？]</td>\n",
       "      <td>-0.313924</td>\n",
       "      <td>0.014691</td>\n",
       "      <td>0.273738</td>\n",
       "      <td>-0.119044</td>\n",
       "      <td>0.061329</td>\n",
       "      <td>...</td>\n",
       "      <td>0.094003</td>\n",
       "      <td>-0.179929</td>\n",
       "      <td>0.137684</td>\n",
       "      <td>0.294595</td>\n",
       "      <td>0.007612</td>\n",
       "      <td>0.240942</td>\n",
       "      <td>0.043142</td>\n",
       "      <td>-0.010049</td>\n",
       "      <td>0.082187</td>\n",
       "      <td>-0.181067</td>\n",
       "    </tr>\n",
       "  </tbody>\n",
       "</table>\n",
       "<p>5 rows × 65 columns</p>\n",
       "</div>"
      ],
      "text/plain": [
       "     sentence1    sentence2  label            sentence1_words  \\\n",
       "0     藏獒为什么这么贵    藏獒见人不咬为什么      0           [藏獒, 为什么, 这么, 贵]   \n",
       "1  人生应该怎么才算精彩？  人生要怎么过才算精彩啊      1  [人生, 应该, 怎么, 才, 算, 精彩, ？]   \n",
       "2     为什么打牌老是输  为什么我枪神纪进不去了      0           [为什么, 打牌, 老是, 输]   \n",
       "3   现在网上卖什么最赚钱     网上卖什么最赚钱      1     [现在, 网上, 卖, 什么, 最, 赚钱]   \n",
       "4       如何提高气质    怎样提高自身气质？      1               [如何, 提高, 气质]   \n",
       "\n",
       "               sentence2_words    vec1_1    vec1_0    vec1_2    vec1_3  \\\n",
       "0        [藏獒, 见, 人, 不, 咬, 为什么] -0.239464 -0.121251  0.135171  0.305566   \n",
       "1  [人生, 要, 怎么, 过, 才, 算, 精彩, 啊] -0.076702  0.043066  0.288888  0.080856   \n",
       "2      [为什么, 我, 枪神, 纪, 进不去, 了] -0.213117 -0.092190  0.040614  0.113659   \n",
       "3           [网上, 卖, 什么, 最, 赚钱]  0.100445 -0.101776  0.462573  0.001133   \n",
       "4          [怎样, 提高, 自身, 气质, ？] -0.313924  0.014691  0.273738 -0.119044   \n",
       "\n",
       "     vec1_4  ...   vec2_20   vec2_21   vec2_22   vec2_23   vec2_24   vec2_25  \\\n",
       "0  0.119762  ... -0.112501 -0.085315 -0.060292  0.370697  0.145503  0.084740   \n",
       "1  0.027467  ...  0.105474 -0.182471 -0.159379  0.462175  0.223113  0.194785   \n",
       "2  0.081719  ... -0.045531 -0.099590 -0.004021  0.307213  0.156712  0.052207   \n",
       "3 -0.056483  ...  0.043075 -0.076738  0.060750  0.476237  0.066865  0.144340   \n",
       "4  0.061329  ...  0.094003 -0.179929  0.137684  0.294595  0.007612  0.240942   \n",
       "\n",
       "    vec2_26   vec2_27   vec2_28   vec2_29  \n",
       "0  0.303218  0.377802 -0.017046 -0.423276  \n",
       "1  0.177204  0.145913  0.045965 -0.216800  \n",
       "2  0.125242  0.367955 -0.050377 -0.547881  \n",
       "3  0.047456  0.060169 -0.116806 -0.147685  \n",
       "4  0.043142 -0.010049  0.082187 -0.181067  \n",
       "\n",
       "[5 rows x 65 columns]"
      ]
     },
     "execution_count": 30,
     "metadata": {},
     "output_type": "execute_result"
    }
   ],
   "source": [
    "train.head()"
   ]
  },
  {
   "cell_type": "markdown",
   "id": "7997be84",
   "metadata": {},
   "source": [
    "## 划分数据集"
   ]
  },
  {
   "cell_type": "code",
   "execution_count": 32,
   "id": "258a4a15",
   "metadata": {
    "ExecuteTime": {
     "end_time": "2022-10-18T06:20:43.701331Z",
     "start_time": "2022-10-18T06:20:43.636441Z"
    }
   },
   "outputs": [
    {
     "name": "stdout",
     "output_type": "stream",
     "text": [
      "Wall time: 49.8 ms\n"
     ]
    }
   ],
   "source": [
    "%%time\n",
    "x_train, x_valid, y_train, y_valid = train_test_split(train.iloc[:, 5:], train.label, \n",
    "                                                      test_size=0.3, \n",
    "                                                      random_state=20)\n",
    "x_test = test.iloc[:, 5:]"
   ]
  },
  {
   "cell_type": "markdown",
   "id": "a7a7241a",
   "metadata": {},
   "source": [
    "# 构建模型"
   ]
  },
  {
   "cell_type": "markdown",
   "id": "d2b004cf",
   "metadata": {},
   "source": [
    "## 搭建一维卷积"
   ]
  },
  {
   "cell_type": "code",
   "execution_count": 35,
   "id": "10e331f1",
   "metadata": {
    "ExecuteTime": {
     "end_time": "2022-10-18T06:28:58.625933Z",
     "start_time": "2022-10-18T06:28:58.571038Z"
    }
   },
   "outputs": [
    {
     "name": "stdout",
     "output_type": "stream",
     "text": [
      "Model: \"sequential_1\"\n",
      "_________________________________________________________________\n",
      " Layer (type)                Output Shape              Param #   \n",
      "=================================================================\n",
      " embedding_1 (Embedding)     (None, 60, 50)            3000      \n",
      "                                                                 \n",
      " conv1d_1 (Conv1D)           (None, 54, 32)            11232     \n",
      "                                                                 \n",
      " max_pooling1d_1 (MaxPooling  (None, 18, 32)           0         \n",
      " 1D)                                                             \n",
      "                                                                 \n",
      " global_average_pooling1d_1   (None, 32)               0         \n",
      " (GlobalAveragePooling1D)                                        \n",
      "                                                                 \n",
      " dense_1 (Dense)             (None, 1)                 33        \n",
      "                                                                 \n",
      "=================================================================\n",
      "Total params: 14,265\n",
      "Trainable params: 14,265\n",
      "Non-trainable params: 0\n",
      "_________________________________________________________________\n",
      "Wall time: 37.9 ms\n"
     ]
    }
   ],
   "source": [
    "%%time\n",
    "model = tf.keras.Sequential()\n",
    "model.add(tf.keras.layers.Embedding(300, 50, input_length=300))\n",
    "model.add(tf.keras.layers.Conv1D(32, 7, activation='relu'))\n",
    "model.add(tf.keras.layers.MaxPooling1D(3))\n",
    "model.add(tf.keras.layers.GlobalAveragePooling1D())\n",
    "model.add(tf.keras.layers.Dense(1, activation='sigmoid'))\n",
    "model.summary()"
   ]
  },
  {
   "cell_type": "markdown",
   "id": "e5714d2b",
   "metadata": {},
   "source": [
    "## 模型编译"
   ]
  },
  {
   "cell_type": "code",
   "execution_count": 37,
   "id": "fc464fc1",
   "metadata": {
    "ExecuteTime": {
     "end_time": "2022-10-18T06:29:49.655254Z",
     "start_time": "2022-10-18T06:29:49.639307Z"
    }
   },
   "outputs": [
    {
     "name": "stdout",
     "output_type": "stream",
     "text": [
      "Wall time: 5.98 ms\n"
     ]
    }
   ],
   "source": [
    "%%time\n",
    "model.compile(optimizer=tf.keras.optimizers.RMSprop(),\n",
    "              loss = 'binary_crossentropy',\n",
    "              metrics=['acc'])"
   ]
  },
  {
   "cell_type": "markdown",
   "id": "391c2b1f",
   "metadata": {},
   "source": [
    "## 模型训练"
   ]
  },
  {
   "cell_type": "code",
   "execution_count": 1,
   "id": "44f9811d",
   "metadata": {
    "ExecuteTime": {
     "end_time": "2022-10-18T06:37:56.238750Z",
     "start_time": "2022-10-18T06:37:56.138838Z"
    }
   },
   "outputs": [
    {
     "ename": "NameError",
     "evalue": "name 'model' is not defined",
     "output_type": "error",
     "traceback": [
      "\u001b[1;31m---------------------------------------------------------------------------\u001b[0m",
      "\u001b[1;31mNameError\u001b[0m                                 Traceback (most recent call last)",
      "\u001b[1;32m<timed exec>\u001b[0m in \u001b[0;36m<module>\u001b[1;34m\u001b[0m\n",
      "\u001b[1;31mNameError\u001b[0m: name 'model' is not defined"
     ]
    }
   ],
   "source": [
    "%%time\n",
    "history = model.fit(x_train, y_train, \n",
    "                    validation_data=(x_valid, y_valid),\n",
    "                    epochs=30, batch_size=168)"
   ]
  },
  {
   "cell_type": "code",
   "execution_count": null,
   "id": "ddc35498",
   "metadata": {},
   "outputs": [],
   "source": []
  }
 ],
 "metadata": {
  "kernelspec": {
   "display_name": "Python 3 (ipykernel)",
   "language": "python",
   "name": "python3"
  },
  "language_info": {
   "codemirror_mode": {
    "name": "ipython",
    "version": 3
   },
   "file_extension": ".py",
   "mimetype": "text/x-python",
   "name": "python",
   "nbconvert_exporter": "python",
   "pygments_lexer": "ipython3",
   "version": "3.9.7"
  },
  "toc": {
   "base_numbering": 1,
   "nav_menu": {},
   "number_sections": true,
   "sideBar": true,
   "skip_h1_title": false,
   "title_cell": "Table of Contents",
   "title_sidebar": "Contents",
   "toc_cell": false,
   "toc_position": {},
   "toc_section_display": true,
   "toc_window_display": true
  }
 },
 "nbformat": 4,
 "nbformat_minor": 5
}
